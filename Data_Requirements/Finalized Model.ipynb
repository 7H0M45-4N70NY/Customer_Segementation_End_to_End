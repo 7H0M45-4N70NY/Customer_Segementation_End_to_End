{
 "cells": [
  {
   "cell_type": "code",
   "execution_count": 1,
   "id": "e44ddf40-e00a-4f61-b1f7-180fa0fb9a2c",
   "metadata": {},
   "outputs": [],
   "source": [
    "import pandas as pd\n",
    "import numpy as np\n",
    "import seaborn as sn\n",
    "sn.set()\n",
    "import matplotlib.pyplot as plt\n",
    "%matplotlib inline\n",
    "import warnings\n",
    "warnings.filterwarnings(\"ignore\")"
   ]
  },
  {
   "cell_type": "code",
   "execution_count": 35,
   "id": "5b0ba832-5158-4fb9-b2ce-9d6407448076",
   "metadata": {},
   "outputs": [
    {
     "data": {
      "text/html": [
       "<div>\n",
       "<style scoped>\n",
       "    .dataframe tbody tr th:only-of-type {\n",
       "        vertical-align: middle;\n",
       "    }\n",
       "\n",
       "    .dataframe tbody tr th {\n",
       "        vertical-align: top;\n",
       "    }\n",
       "\n",
       "    .dataframe thead th {\n",
       "        text-align: right;\n",
       "    }\n",
       "</style>\n",
       "<table border=\"1\" class=\"dataframe\">\n",
       "  <thead>\n",
       "    <tr style=\"text-align: right;\">\n",
       "      <th></th>\n",
       "      <th>Sex</th>\n",
       "      <th>Marital status</th>\n",
       "      <th>Age</th>\n",
       "      <th>Education</th>\n",
       "      <th>Income</th>\n",
       "      <th>Occupation</th>\n",
       "      <th>Settlement size</th>\n",
       "    </tr>\n",
       "  </thead>\n",
       "  <tbody>\n",
       "    <tr>\n",
       "      <th>0</th>\n",
       "      <td>0</td>\n",
       "      <td>0</td>\n",
       "      <td>67</td>\n",
       "      <td>2</td>\n",
       "      <td>124670</td>\n",
       "      <td>1</td>\n",
       "      <td>2</td>\n",
       "    </tr>\n",
       "    <tr>\n",
       "      <th>1</th>\n",
       "      <td>1</td>\n",
       "      <td>1</td>\n",
       "      <td>22</td>\n",
       "      <td>1</td>\n",
       "      <td>150773</td>\n",
       "      <td>1</td>\n",
       "      <td>2</td>\n",
       "    </tr>\n",
       "    <tr>\n",
       "      <th>2</th>\n",
       "      <td>0</td>\n",
       "      <td>0</td>\n",
       "      <td>49</td>\n",
       "      <td>1</td>\n",
       "      <td>89210</td>\n",
       "      <td>0</td>\n",
       "      <td>0</td>\n",
       "    </tr>\n",
       "    <tr>\n",
       "      <th>3</th>\n",
       "      <td>0</td>\n",
       "      <td>0</td>\n",
       "      <td>45</td>\n",
       "      <td>1</td>\n",
       "      <td>171565</td>\n",
       "      <td>1</td>\n",
       "      <td>1</td>\n",
       "    </tr>\n",
       "    <tr>\n",
       "      <th>4</th>\n",
       "      <td>0</td>\n",
       "      <td>0</td>\n",
       "      <td>53</td>\n",
       "      <td>1</td>\n",
       "      <td>149031</td>\n",
       "      <td>1</td>\n",
       "      <td>1</td>\n",
       "    </tr>\n",
       "  </tbody>\n",
       "</table>\n",
       "</div>"
      ],
      "text/plain": [
       "   Sex  Marital status  Age  Education  Income  Occupation  Settlement size\n",
       "0    0               0   67          2  124670           1                2\n",
       "1    1               1   22          1  150773           1                2\n",
       "2    0               0   49          1   89210           0                0\n",
       "3    0               0   45          1  171565           1                1\n",
       "4    0               0   53          1  149031           1                1"
      ]
     },
     "execution_count": 35,
     "metadata": {},
     "output_type": "execute_result"
    }
   ],
   "source": [
    "seg_df=pd.read_csv(\"segmentation data.csv\")\n",
    "segment_df=seg_df.drop(\"ID\",axis=1)\n",
    "segment_df.head()"
   ]
  },
  {
   "cell_type": "code",
   "execution_count": 36,
   "id": "735a729c",
   "metadata": {},
   "outputs": [
    {
     "data": {
      "text/html": [
       "<div>\n",
       "<style scoped>\n",
       "    .dataframe tbody tr th:only-of-type {\n",
       "        vertical-align: middle;\n",
       "    }\n",
       "\n",
       "    .dataframe tbody tr th {\n",
       "        vertical-align: top;\n",
       "    }\n",
       "\n",
       "    .dataframe thead th {\n",
       "        text-align: right;\n",
       "    }\n",
       "</style>\n",
       "<table border=\"1\" class=\"dataframe\">\n",
       "  <thead>\n",
       "    <tr style=\"text-align: right;\">\n",
       "      <th></th>\n",
       "      <th>ID</th>\n",
       "      <th>Sex</th>\n",
       "      <th>Marital status</th>\n",
       "      <th>Age</th>\n",
       "      <th>Education</th>\n",
       "      <th>Income</th>\n",
       "      <th>Occupation</th>\n",
       "      <th>Settlement size</th>\n",
       "    </tr>\n",
       "  </thead>\n",
       "  <tbody>\n",
       "    <tr>\n",
       "      <th>count</th>\n",
       "      <td>2.000000e+03</td>\n",
       "      <td>2000.000000</td>\n",
       "      <td>2000.000000</td>\n",
       "      <td>2000.000000</td>\n",
       "      <td>2000.00000</td>\n",
       "      <td>2000.000000</td>\n",
       "      <td>2000.000000</td>\n",
       "      <td>2000.000000</td>\n",
       "    </tr>\n",
       "    <tr>\n",
       "      <th>mean</th>\n",
       "      <td>1.000010e+08</td>\n",
       "      <td>0.457000</td>\n",
       "      <td>0.496500</td>\n",
       "      <td>35.909000</td>\n",
       "      <td>1.03800</td>\n",
       "      <td>120954.419000</td>\n",
       "      <td>0.810500</td>\n",
       "      <td>0.739000</td>\n",
       "    </tr>\n",
       "    <tr>\n",
       "      <th>std</th>\n",
       "      <td>5.774946e+02</td>\n",
       "      <td>0.498272</td>\n",
       "      <td>0.500113</td>\n",
       "      <td>11.719402</td>\n",
       "      <td>0.59978</td>\n",
       "      <td>38108.824679</td>\n",
       "      <td>0.638587</td>\n",
       "      <td>0.812533</td>\n",
       "    </tr>\n",
       "    <tr>\n",
       "      <th>min</th>\n",
       "      <td>1.000000e+08</td>\n",
       "      <td>0.000000</td>\n",
       "      <td>0.000000</td>\n",
       "      <td>18.000000</td>\n",
       "      <td>0.00000</td>\n",
       "      <td>35832.000000</td>\n",
       "      <td>0.000000</td>\n",
       "      <td>0.000000</td>\n",
       "    </tr>\n",
       "    <tr>\n",
       "      <th>25%</th>\n",
       "      <td>1.000005e+08</td>\n",
       "      <td>0.000000</td>\n",
       "      <td>0.000000</td>\n",
       "      <td>27.000000</td>\n",
       "      <td>1.00000</td>\n",
       "      <td>97663.250000</td>\n",
       "      <td>0.000000</td>\n",
       "      <td>0.000000</td>\n",
       "    </tr>\n",
       "    <tr>\n",
       "      <th>50%</th>\n",
       "      <td>1.000010e+08</td>\n",
       "      <td>0.000000</td>\n",
       "      <td>0.000000</td>\n",
       "      <td>33.000000</td>\n",
       "      <td>1.00000</td>\n",
       "      <td>115548.500000</td>\n",
       "      <td>1.000000</td>\n",
       "      <td>1.000000</td>\n",
       "    </tr>\n",
       "    <tr>\n",
       "      <th>75%</th>\n",
       "      <td>1.000015e+08</td>\n",
       "      <td>1.000000</td>\n",
       "      <td>1.000000</td>\n",
       "      <td>42.000000</td>\n",
       "      <td>1.00000</td>\n",
       "      <td>138072.250000</td>\n",
       "      <td>1.000000</td>\n",
       "      <td>1.000000</td>\n",
       "    </tr>\n",
       "    <tr>\n",
       "      <th>max</th>\n",
       "      <td>1.000020e+08</td>\n",
       "      <td>1.000000</td>\n",
       "      <td>1.000000</td>\n",
       "      <td>76.000000</td>\n",
       "      <td>3.00000</td>\n",
       "      <td>309364.000000</td>\n",
       "      <td>2.000000</td>\n",
       "      <td>2.000000</td>\n",
       "    </tr>\n",
       "  </tbody>\n",
       "</table>\n",
       "</div>"
      ],
      "text/plain": [
       "                 ID          Sex  Marital status          Age   Education  \\\n",
       "count  2.000000e+03  2000.000000     2000.000000  2000.000000  2000.00000   \n",
       "mean   1.000010e+08     0.457000        0.496500    35.909000     1.03800   \n",
       "std    5.774946e+02     0.498272        0.500113    11.719402     0.59978   \n",
       "min    1.000000e+08     0.000000        0.000000    18.000000     0.00000   \n",
       "25%    1.000005e+08     0.000000        0.000000    27.000000     1.00000   \n",
       "50%    1.000010e+08     0.000000        0.000000    33.000000     1.00000   \n",
       "75%    1.000015e+08     1.000000        1.000000    42.000000     1.00000   \n",
       "max    1.000020e+08     1.000000        1.000000    76.000000     3.00000   \n",
       "\n",
       "              Income   Occupation  Settlement size  \n",
       "count    2000.000000  2000.000000      2000.000000  \n",
       "mean   120954.419000     0.810500         0.739000  \n",
       "std     38108.824679     0.638587         0.812533  \n",
       "min     35832.000000     0.000000         0.000000  \n",
       "25%     97663.250000     0.000000         0.000000  \n",
       "50%    115548.500000     1.000000         1.000000  \n",
       "75%    138072.250000     1.000000         1.000000  \n",
       "max    309364.000000     2.000000         2.000000  "
      ]
     },
     "execution_count": 36,
     "metadata": {},
     "output_type": "execute_result"
    }
   ],
   "source": [
    "seg_df.describe()"
   ]
  },
  {
   "cell_type": "code",
   "execution_count": 11,
   "id": "78c6b6bf",
   "metadata": {},
   "outputs": [
    {
     "name": "stdout",
     "output_type": "stream",
     "text": [
      "Sex\n",
      "Marital status\n",
      "Education\n",
      "Occupation\n",
      "Settlement size\n"
     ]
    }
   ],
   "source": [
    "cols=[i for i in seg_df.columns if seg_df[i].nunique() <5]\n",
    "dic=dict()\n",
    "for i in cols :\n",
    "    print(i)\n",
    "    dic[i]=seg_df[i].unique()"
   ]
  },
  {
   "cell_type": "code",
   "execution_count": 12,
   "id": "f5e94647",
   "metadata": {},
   "outputs": [
    {
     "data": {
      "text/plain": [
       "{'Sex': array([0, 1], dtype=int64),\n",
       " 'Marital status': array([0, 1], dtype=int64),\n",
       " 'Education': array([2, 1, 0, 3], dtype=int64),\n",
       " 'Occupation': array([1, 0, 2], dtype=int64),\n",
       " 'Settlement size': array([2, 0, 1], dtype=int64)}"
      ]
     },
     "execution_count": 12,
     "metadata": {},
     "output_type": "execute_result"
    }
   ],
   "source": [
    "dic"
   ]
  },
  {
   "cell_type": "code",
   "execution_count": 20,
   "id": "6429cd02",
   "metadata": {},
   "outputs": [],
   "source": [
    "maps={\n",
    "    \"Settlements size\":{0:\"Small\",1:\"Medium\",2:\"Large\"},\n",
    "    \"Occupation\":{0:\"Skilled\",1:\"Manager\",1:\"Owner\"},\n",
    "    \"Education\":{0:\"12th\",1:\"Bachelors\",2:\"Masters\",3:\"Phd\"},\n",
    "    \"Marital status\":{0:\"Single\",1:\"Married\"},\n",
    "    \"Sex\":{0:\"Female\",1:\"Male\"}\n",
    "}"
   ]
  },
  {
   "cell_type": "code",
   "execution_count": 21,
   "id": "7f81c7b6",
   "metadata": {},
   "outputs": [],
   "source": [
    "reverse_maps={i:{v:k for k,v in mapping.items()} for i,mapping in maps.items()}"
   ]
  },
  {
   "cell_type": "code",
   "execution_count": 22,
   "id": "bfe4274a",
   "metadata": {},
   "outputs": [
    {
     "data": {
      "text/plain": [
       "{'Settlements size': {'Small': 0, 'Medium': 1, 'Large': 2},\n",
       " 'Occupation': {'Skilled': 0, 'Owner': 1},\n",
       " 'Education': {'12th': 0, 'Bachelors': 1, 'Masters': 2, 'Phd': 3},\n",
       " 'Marital status': {'Single': 0, 'Married': 1},\n",
       " 'Sex': {'Female': 0, 'Male': 1}}"
      ]
     },
     "execution_count": 22,
     "metadata": {},
     "output_type": "execute_result"
    }
   ],
   "source": [
    "reverse_maps"
   ]
  },
  {
   "cell_type": "code",
   "execution_count": 4,
   "id": "615887b5-861d-4060-93f2-e175b4ab806f",
   "metadata": {},
   "outputs": [],
   "source": [
    "from sklearn.preprocessing import StandardScaler\n",
    "scaler=StandardScaler()"
   ]
  },
  {
   "cell_type": "code",
   "execution_count": 5,
   "id": "3080e6ae-8edf-4bc8-91f4-a5efdadca497",
   "metadata": {},
   "outputs": [
    {
     "data": {
      "text/plain": [
       "(2000, 7)"
      ]
     },
     "execution_count": 5,
     "metadata": {},
     "output_type": "execute_result"
    }
   ],
   "source": [
    "x_scaled=scaler.fit_transform(segment_df)\n",
    "x_scaled.shape"
   ]
  },
  {
   "cell_type": "code",
   "execution_count": 26,
   "id": "4fef3b2f-a127-4a9d-8b6b-8981fb085286",
   "metadata": {},
   "outputs": [],
   "source": [
    "from sklearn.decomposition import PCA\n",
    "pca=PCA(n_components=0.80,random_state=64)"
   ]
  },
  {
   "cell_type": "code",
   "execution_count": 7,
   "id": "5bdf9d67-1918-4eae-9786-3105908c22a0",
   "metadata": {},
   "outputs": [
    {
     "data": {
      "text/html": [
       "<div>\n",
       "<style scoped>\n",
       "    .dataframe tbody tr th:only-of-type {\n",
       "        vertical-align: middle;\n",
       "    }\n",
       "\n",
       "    .dataframe tbody tr th {\n",
       "        vertical-align: top;\n",
       "    }\n",
       "\n",
       "    .dataframe thead th {\n",
       "        text-align: right;\n",
       "    }\n",
       "</style>\n",
       "<table border=\"1\" class=\"dataframe\">\n",
       "  <thead>\n",
       "    <tr style=\"text-align: right;\">\n",
       "      <th></th>\n",
       "      <th>0</th>\n",
       "      <th>1</th>\n",
       "      <th>2</th>\n",
       "    </tr>\n",
       "  </thead>\n",
       "  <tbody>\n",
       "    <tr>\n",
       "      <th>0</th>\n",
       "      <td>2.514746</td>\n",
       "      <td>0.834122</td>\n",
       "      <td>2.174806</td>\n",
       "    </tr>\n",
       "    <tr>\n",
       "      <th>1</th>\n",
       "      <td>0.344935</td>\n",
       "      <td>0.598146</td>\n",
       "      <td>-2.211603</td>\n",
       "    </tr>\n",
       "    <tr>\n",
       "      <th>2</th>\n",
       "      <td>-0.651063</td>\n",
       "      <td>-0.680093</td>\n",
       "      <td>2.280419</td>\n",
       "    </tr>\n",
       "    <tr>\n",
       "      <th>3</th>\n",
       "      <td>1.714316</td>\n",
       "      <td>-0.579927</td>\n",
       "      <td>0.730731</td>\n",
       "    </tr>\n",
       "    <tr>\n",
       "      <th>4</th>\n",
       "      <td>1.626745</td>\n",
       "      <td>-0.440496</td>\n",
       "      <td>1.244909</td>\n",
       "    </tr>\n",
       "    <tr>\n",
       "      <th>...</th>\n",
       "      <td>...</td>\n",
       "      <td>...</td>\n",
       "      <td>...</td>\n",
       "    </tr>\n",
       "    <tr>\n",
       "      <th>1995</th>\n",
       "      <td>-0.866034</td>\n",
       "      <td>0.298330</td>\n",
       "      <td>1.438958</td>\n",
       "    </tr>\n",
       "    <tr>\n",
       "      <th>1996</th>\n",
       "      <td>-1.114957</td>\n",
       "      <td>0.794727</td>\n",
       "      <td>-1.079871</td>\n",
       "    </tr>\n",
       "    <tr>\n",
       "      <th>1997</th>\n",
       "      <td>-1.452298</td>\n",
       "      <td>-2.235937</td>\n",
       "      <td>0.896571</td>\n",
       "    </tr>\n",
       "    <tr>\n",
       "      <th>1998</th>\n",
       "      <td>-2.241453</td>\n",
       "      <td>0.627108</td>\n",
       "      <td>-0.530456</td>\n",
       "    </tr>\n",
       "    <tr>\n",
       "      <th>1999</th>\n",
       "      <td>-1.866885</td>\n",
       "      <td>-2.454672</td>\n",
       "      <td>0.662622</td>\n",
       "    </tr>\n",
       "  </tbody>\n",
       "</table>\n",
       "<p>2000 rows × 3 columns</p>\n",
       "</div>"
      ],
      "text/plain": [
       "             0         1         2\n",
       "0     2.514746  0.834122  2.174806\n",
       "1     0.344935  0.598146 -2.211603\n",
       "2    -0.651063 -0.680093  2.280419\n",
       "3     1.714316 -0.579927  0.730731\n",
       "4     1.626745 -0.440496  1.244909\n",
       "...        ...       ...       ...\n",
       "1995 -0.866034  0.298330  1.438958\n",
       "1996 -1.114957  0.794727 -1.079871\n",
       "1997 -1.452298 -2.235937  0.896571\n",
       "1998 -2.241453  0.627108 -0.530456\n",
       "1999 -1.866885 -2.454672  0.662622\n",
       "\n",
       "[2000 rows x 3 columns]"
      ]
     },
     "execution_count": 7,
     "metadata": {},
     "output_type": "execute_result"
    }
   ],
   "source": [
    "pca_df=pd.DataFrame(pca.fit_transform(x_scaled))\n",
    "pca_df"
   ]
  },
  {
   "cell_type": "code",
   "execution_count": 13,
   "id": "93ba87fb-88af-41b4-a199-893b2e1d82b4",
   "metadata": {},
   "outputs": [],
   "source": [
    "from sklearn.cluster import KMeans\n",
    "model_kmeans=KMeans(n_clusters=4,random_state=42,max_iter=1000, tol=0.0001)\n",
    "k_means_cluster=model_kmeans.fit_predict(pca_df)"
   ]
  },
  {
   "cell_type": "code",
   "execution_count": 27,
   "id": "82a78343-5e85-4dcd-92be-e676bf84a5ab",
   "metadata": {},
   "outputs": [],
   "source": [
    "from sklearn.compose import ColumnTransformer\n",
    "from sklearn.impute import SimpleImputer\n",
    "from sklearn.pipeline import Pipeline\n",
    "from sklearn.preprocessing import OrdinalEncoder,StandardScaler"
   ]
  },
  {
   "cell_type": "code",
   "execution_count": 28,
   "id": "ac3e6ac1-98d4-4127-a0e1-a6501369b263",
   "metadata": {},
   "outputs": [],
   "source": [
    "column_transformer=Pipeline(\n",
    "        steps=[\n",
    "            ('imputer',SimpleImputer(strategy=\"median\")),\n",
    "            ('scaler',StandardScaler()),\n",
    "            ('pca',PCA(n_components=0.80,random_state=64))\n",
    "        ])\n"
   ]
  },
  {
   "cell_type": "code",
   "execution_count": 29,
   "id": "75e135f6-8563-4878-9ea2-570760367f7c",
   "metadata": {},
   "outputs": [],
   "source": [
    "X=segment_df"
   ]
  },
  {
   "cell_type": "code",
   "execution_count": 30,
   "id": "cfeb3fd3-bc79-4e0c-bc9c-fcde084ae852",
   "metadata": {},
   "outputs": [
    {
     "ename": "NameError",
     "evalue": "name 'KMeans' is not defined",
     "output_type": "error",
     "traceback": [
      "\u001b[1;31m---------------------------------------------------------------------------\u001b[0m",
      "\u001b[1;31mNameError\u001b[0m                                 Traceback (most recent call last)",
      "Cell \u001b[1;32mIn[30], line 3\u001b[0m\n\u001b[0;32m      1\u001b[0m \u001b[38;5;66;03m# Unsupervised clustering pipeline\u001b[39;00m\n\u001b[0;32m      2\u001b[0m clustering_pipeline \u001b[38;5;241m=\u001b[39m Pipeline([\n\u001b[1;32m----> 3\u001b[0m     (\u001b[38;5;124m'\u001b[39m\u001b[38;5;124mkmeans\u001b[39m\u001b[38;5;124m'\u001b[39m, \u001b[43mKMeans\u001b[49m(n_clusters\u001b[38;5;241m=\u001b[39m\u001b[38;5;241m4\u001b[39m,random_state\u001b[38;5;241m=\u001b[39m\u001b[38;5;241m42\u001b[39m,max_iter\u001b[38;5;241m=\u001b[39m\u001b[38;5;241m1000\u001b[39m, tol\u001b[38;5;241m=\u001b[39m\u001b[38;5;241m0.0001\u001b[39m))\n\u001b[0;32m      4\u001b[0m ])\n",
      "\u001b[1;31mNameError\u001b[0m: name 'KMeans' is not defined"
     ]
    }
   ],
   "source": [
    "# Unsupervised clustering pipeline\n",
    "clustering_pipeline = Pipeline([\n",
    "    ('kmeans', KMeans(n_clusters=4,random_state=42,max_iter=1000, tol=0.0001))\n",
    "])"
   ]
  },
  {
   "cell_type": "code",
   "execution_count": 31,
   "id": "6e681880-da86-4eda-93ba-a41bf3001003",
   "metadata": {},
   "outputs": [],
   "source": [
    "# Fit and transform the data\n",
    "ext=pd.DataFrame(column_transformer.fit_transform(X))"
   ]
  },
  {
   "cell_type": "code",
   "execution_count": 34,
   "id": "96e0a8c3",
   "metadata": {},
   "outputs": [
    {
     "data": {
      "text/plain": [
       "array(['Sex', 'Marital status', 'Age', 'Education', 'Income',\n",
       "       'Occupation', 'Settlement size'], dtype=object)"
      ]
     },
     "execution_count": 34,
     "metadata": {},
     "output_type": "execute_result"
    }
   ],
   "source": [
    "column_transformer.feature_names_in_"
   ]
  },
  {
   "cell_type": "code",
   "execution_count": 34,
   "id": "830ba631-be17-40e0-8c4e-ac126efffe96",
   "metadata": {},
   "outputs": [],
   "source": [
    "new_clutsers=clustering_pipeline.fit_predict(ext)"
   ]
  },
  {
   "cell_type": "code",
   "execution_count": 35,
   "id": "925eb15e-be8b-47f3-9d46-fe0eb49de479",
   "metadata": {},
   "outputs": [
    {
     "data": {
      "text/plain": [
       "2000"
      ]
     },
     "execution_count": 35,
     "metadata": {},
     "output_type": "execute_result"
    }
   ],
   "source": [
    "sum(k_means_cluster==new_clutsers)"
   ]
  },
  {
   "cell_type": "code",
   "execution_count": 37,
   "id": "b757cdb1-2335-44b7-bf15-e55bdab7bdb4",
   "metadata": {},
   "outputs": [],
   "source": [
    "maps={0:\"Standard\",1:\"Platinum\",2:\"Gold\",3:\"Bronze\"}"
   ]
  },
  {
   "cell_type": "code",
   "execution_count": 38,
   "id": "ed9da8f7-95b7-49f5-907b-f6b5fd9398e5",
   "metadata": {},
   "outputs": [],
   "source": [
    "model_kmeans= KMeans(n_clusters=4,random_state=42,max_iter=1000, tol=0.0001)"
   ]
  },
  {
   "cell_type": "code",
   "execution_count": 39,
   "id": "1afd295b-f6e3-4ecd-86fb-ccf80b2d946c",
   "metadata": {},
   "outputs": [
    {
     "data": {
      "text/html": [
       "<style>#sk-container-id-1 {color: black;}#sk-container-id-1 pre{padding: 0;}#sk-container-id-1 div.sk-toggleable {background-color: white;}#sk-container-id-1 label.sk-toggleable__label {cursor: pointer;display: block;width: 100%;margin-bottom: 0;padding: 0.3em;box-sizing: border-box;text-align: center;}#sk-container-id-1 label.sk-toggleable__label-arrow:before {content: \"▸\";float: left;margin-right: 0.25em;color: #696969;}#sk-container-id-1 label.sk-toggleable__label-arrow:hover:before {color: black;}#sk-container-id-1 div.sk-estimator:hover label.sk-toggleable__label-arrow:before {color: black;}#sk-container-id-1 div.sk-toggleable__content {max-height: 0;max-width: 0;overflow: hidden;text-align: left;background-color: #f0f8ff;}#sk-container-id-1 div.sk-toggleable__content pre {margin: 0.2em;color: black;border-radius: 0.25em;background-color: #f0f8ff;}#sk-container-id-1 input.sk-toggleable__control:checked~div.sk-toggleable__content {max-height: 200px;max-width: 100%;overflow: auto;}#sk-container-id-1 input.sk-toggleable__control:checked~label.sk-toggleable__label-arrow:before {content: \"▾\";}#sk-container-id-1 div.sk-estimator input.sk-toggleable__control:checked~label.sk-toggleable__label {background-color: #d4ebff;}#sk-container-id-1 div.sk-label input.sk-toggleable__control:checked~label.sk-toggleable__label {background-color: #d4ebff;}#sk-container-id-1 input.sk-hidden--visually {border: 0;clip: rect(1px 1px 1px 1px);clip: rect(1px, 1px, 1px, 1px);height: 1px;margin: -1px;overflow: hidden;padding: 0;position: absolute;width: 1px;}#sk-container-id-1 div.sk-estimator {font-family: monospace;background-color: #f0f8ff;border: 1px dotted black;border-radius: 0.25em;box-sizing: border-box;margin-bottom: 0.5em;}#sk-container-id-1 div.sk-estimator:hover {background-color: #d4ebff;}#sk-container-id-1 div.sk-parallel-item::after {content: \"\";width: 100%;border-bottom: 1px solid gray;flex-grow: 1;}#sk-container-id-1 div.sk-label:hover label.sk-toggleable__label {background-color: #d4ebff;}#sk-container-id-1 div.sk-serial::before {content: \"\";position: absolute;border-left: 1px solid gray;box-sizing: border-box;top: 0;bottom: 0;left: 50%;z-index: 0;}#sk-container-id-1 div.sk-serial {display: flex;flex-direction: column;align-items: center;background-color: white;padding-right: 0.2em;padding-left: 0.2em;position: relative;}#sk-container-id-1 div.sk-item {position: relative;z-index: 1;}#sk-container-id-1 div.sk-parallel {display: flex;align-items: stretch;justify-content: center;background-color: white;position: relative;}#sk-container-id-1 div.sk-item::before, #sk-container-id-1 div.sk-parallel-item::before {content: \"\";position: absolute;border-left: 1px solid gray;box-sizing: border-box;top: 0;bottom: 0;left: 50%;z-index: -1;}#sk-container-id-1 div.sk-parallel-item {display: flex;flex-direction: column;z-index: 1;position: relative;background-color: white;}#sk-container-id-1 div.sk-parallel-item:first-child::after {align-self: flex-end;width: 50%;}#sk-container-id-1 div.sk-parallel-item:last-child::after {align-self: flex-start;width: 50%;}#sk-container-id-1 div.sk-parallel-item:only-child::after {width: 0;}#sk-container-id-1 div.sk-dashed-wrapped {border: 1px dashed gray;margin: 0 0.4em 0.5em 0.4em;box-sizing: border-box;padding-bottom: 0.4em;background-color: white;}#sk-container-id-1 div.sk-label label {font-family: monospace;font-weight: bold;display: inline-block;line-height: 1.2em;}#sk-container-id-1 div.sk-label-container {text-align: center;}#sk-container-id-1 div.sk-container {/* jupyter's `normalize.less` sets `[hidden] { display: none; }` but bootstrap.min.css set `[hidden] { display: none !important; }` so we also need the `!important` here to be able to override the default hidden behavior on the sphinx rendered scikit-learn.org. See: https://github.com/scikit-learn/scikit-learn/issues/21755 */display: inline-block !important;position: relative;}#sk-container-id-1 div.sk-text-repr-fallback {display: none;}</style><div id=\"sk-container-id-1\" class=\"sk-top-container\"><div class=\"sk-text-repr-fallback\"><pre>KMeans(max_iter=1000, n_clusters=4, random_state=42)</pre><b>In a Jupyter environment, please rerun this cell to show the HTML representation or trust the notebook. <br />On GitHub, the HTML representation is unable to render, please try loading this page with nbviewer.org.</b></div><div class=\"sk-container\" hidden><div class=\"sk-item\"><div class=\"sk-estimator sk-toggleable\"><input class=\"sk-toggleable__control sk-hidden--visually\" id=\"sk-estimator-id-1\" type=\"checkbox\" checked><label for=\"sk-estimator-id-1\" class=\"sk-toggleable__label sk-toggleable__label-arrow\">KMeans</label><div class=\"sk-toggleable__content\"><pre>KMeans(max_iter=1000, n_clusters=4, random_state=42)</pre></div></div></div></div></div>"
      ],
      "text/plain": [
       "KMeans(max_iter=1000, n_clusters=4, random_state=42)"
      ]
     },
     "execution_count": 39,
     "metadata": {},
     "output_type": "execute_result"
    }
   ],
   "source": [
    "model_kmeans.fit(ext)"
   ]
  },
  {
   "cell_type": "code",
   "execution_count": 40,
   "id": "873b853c-a026-46bc-ade2-278b1cec8655",
   "metadata": {},
   "outputs": [],
   "source": [
    "import pickle\n",
    "# Scaler \n",
    "pickle.dump(column_transformer, open('column_transformer.pickle', 'wb'))\n",
    "# KMeans PCA \n",
    "pickle.dump(model_kmeans, open('model_kmeans.pickle', 'wb'))"
   ]
  },
  {
   "cell_type": "code",
   "execution_count": 41,
   "id": "08ae6c0c-c316-4b33-a64c-7efc33a4ce4a",
   "metadata": {},
   "outputs": [],
   "source": [
    "model_features=['Sex', 'Marital status', 'Age', 'Education', 'Income', 'Occupation', 'Settlement size']"
   ]
  },
  {
   "cell_type": "code",
   "execution_count": null,
   "id": "a32f9b67-a366-4a65-8416-433fe2f72b9b",
   "metadata": {},
   "outputs": [],
   "source": []
  }
 ],
 "metadata": {
  "kernelspec": {
   "display_name": "Python 3 (ipykernel)",
   "language": "python",
   "name": "python3"
  },
  "language_info": {
   "codemirror_mode": {
    "name": "ipython",
    "version": 3
   },
   "file_extension": ".py",
   "mimetype": "text/x-python",
   "name": "python",
   "nbconvert_exporter": "python",
   "pygments_lexer": "ipython3",
   "version": "3.10.9"
  }
 },
 "nbformat": 4,
 "nbformat_minor": 5
}
